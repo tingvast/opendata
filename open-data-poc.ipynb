{
  "nbformat": 4,
  "nbformat_minor": 0,
  "metadata": {
    "colab": {
      "name": "Untitled0.ipynb",
      "provenance": [],
      "authorship_tag": "ABX9TyNaYmA7AVdXZ/LNuQqZwxY1",
      "include_colab_link": true
    },
    "kernelspec": {
      "name": "python3",
      "display_name": "Python 3"
    },
    "language_info": {
      "name": "python"
    }
  },
  "cells": [
    {
      "cell_type": "markdown",
      "metadata": {
        "id": "view-in-github",
        "colab_type": "text"
      },
      "source": [
        "<a href=\"https://colab.research.google.com/github/tingvast/opendata/blob/main/open-data-poc.ipynb\" target=\"_parent\"><img src=\"https://colab.research.google.com/assets/colab-badge.svg\" alt=\"Open In Colab\"/></a>"
      ]
    },
    {
      "cell_type": "code",
      "execution_count": 2,
      "metadata": {
        "id": "Dz0r_hswK8m3"
      },
      "outputs": [],
      "source": [
        "import http.client"
      ]
    },
    {
      "cell_type": "markdown",
      "source": [
        "Sen skapar vi grejer\n"
      ],
      "metadata": {
        "id": "Ou8x6DCYO61y"
      }
    },
    {
      "cell_type": "code",
      "source": [
        "site ='falun.entryscape.net'\n",
        "page='/rowstore/dataset/78698095-d9c9-45f2-a446-08aa19300756/json'"
      ],
      "metadata": {
        "id": "WVq9KcqvO-s6"
      },
      "execution_count": 3,
      "outputs": []
    },
    {
      "cell_type": "markdown",
      "source": [
        "Sen beskriver vi lite mer\n"
      ],
      "metadata": {
        "id": "PohaSvQmPE_c"
      }
    },
    {
      "cell_type": "code",
      "source": [
        "connection = http.client.HTTPSConnection(site)\n",
        "connection.request(\"GET\", page)\n",
        "response = connection.getresponse()\n",
        "data = response.read()"
      ],
      "metadata": {
        "id": "NlMPlb3BPH8B"
      },
      "execution_count": 4,
      "outputs": []
    },
    {
      "cell_type": "markdown",
      "source": [
        "Sen ytterligare grejjer"
      ],
      "metadata": {
        "id": "HkLJmAvQPOjw"
      }
    },
    {
      "cell_type": "code",
      "source": [
        "connection.close()"
      ],
      "metadata": {
        "id": "FeP0GhwJPQ2o"
      },
      "execution_count": 5,
      "outputs": []
    },
    {
      "cell_type": "markdown",
      "source": [
        "Sen mer...."
      ],
      "metadata": {
        "id": "bneUnhxlPT4E"
      }
    },
    {
      "cell_type": "code",
      "source": [
        "print(data)"
      ],
      "metadata": {
        "colab": {
          "base_uri": "https://localhost:8080/"
        },
        "id": "S-pvvLLLPVVG",
        "outputId": "3312377c-85e0-4b4f-cd33-751586dfbce2"
      },
      "execution_count": 6,
      "outputs": [
        {
          "output_type": "stream",
          "name": "stdout",
          "text": [
            "b'{\"resultCount\":17,\"offset\":0,\"limit\":100,\"queryTime\":5222170,\"results\":[{\"td_url\":\"\",\"lifebuoy\":\"true\",\"beach_sand\":\"\",\"shower\":\"\",\"country\":\"SE\",\"wheelchair\":\"false\",\"camping\":\"\",\"city\":\"Falun\",\"accessibility\":\"\",\"latitude\":\"60.5802462832125\",\"bathing_ladder\":\"\",\"diving_tower\":\"\",\"description\":\"Friluftsbad\",\"fireplace\":\"\",\"street\":\"\\xc3\\x96vre Gruvrisv\\xc3\\xa4gen\",\"postalcode\":\"4\",\"beach_grass\":\"\",\"lifeguard\":\"false\",\"\\xef\\xbb\\xbfplaceid\":\"406\",\"watertype\":\"lake\",\"email\":\"kontaktcenter@falun.se \",\"longitude\":\"15.588827601400448\",\"pet_bath\":\"\",\"bech_rock\":\"\",\"bathing_jetty\":\"\",\"extra_url\":\"\",\"toilets\":\"Torrdass\",\"temp_url\":\"https://fev.se/stadsnat/vattentemperatur-badplats.html\",\"visit_url\":\"https://www.falun.se/gora--uppleva/idrott-motion-och-friluftsliv/badplatser.html\",\"phone\":\"+462383000\",\"firstaid\":\"\",\"housenumber\":\"66\",\"name\":\"Stora V\\xc3\\xa4llan\",\"drinking_water\":\"\",\"facilities\":\", , \",\"changing_room\":\"true\",\"updated\":\"2022-02-25\",\"wikidata\":\"\",\"hov_ref\":\"\",\"beach_stone\":\"\"},{\"td_url\":\"\",\"lifebuoy\":\"true\",\"beach_sand\":\"\",\"shower\":\"\",\"country\":\"SE\",\"wheelchair\":\"false\",\"camping\":\"\",\"city\":\"Falun\",\"accessibility\":\"\",\"latitude\":\"60.570177728149574\",\"bathing_ladder\":\"\",\"diving_tower\":\"\",\"description\":\"Friluftsbad\",\"fireplace\":\"true\",\"street\":\"Ris\\xc3\\xb6v\\xc3\\xa4gen\",\"postalcode\":\"3\",\"beach_grass\":\"\",\"lifeguard\":\"false\",\"\\xef\\xbb\\xbfplaceid\":\"401\",\"watertype\":\"lake\",\"email\":\"kontaktcenter@falun.se \",\"longitude\":\"15.64640913198651\",\"pet_bath\":\"\",\"bech_rock\":\"\",\"bathing_jetty\":\"true\",\"extra_url\":\"\",\"toilets\":\"Torrdass\",\"temp_url\":\"https://fev.se/stadsnat/vattentemperatur-badplats.html\",\"visit_url\":\"https://www.falun.se/gora--uppleva/idrott-motion-och-friluftsliv/badplatser.html\",\"phone\":\"+462383000\",\"firstaid\":\"\",\"housenumber\":\"20\",\"name\":\"K\\xc3\\xa4llviken bad\",\"drinking_water\":\"\",\"facilities\":\"B\\xc3\\xa4nkbord, , \",\"changing_room\":\"\",\"updated\":\"2022-02-25\",\"wikidata\":\"\",\"hov_ref\":\"\",\"beach_stone\":\"\"},{\"td_url\":\"\",\"lifebuoy\":\"true\",\"beach_sand\":\"\",\"shower\":\"\",\"country\":\"SE\",\"wheelchair\":\"false\",\"camping\":\"\",\"city\":\"Falun\",\"accessibility\":\"\",\"latitude\":\"60.57924242147824\",\"bathing_ladder\":\"\",\"diving_tower\":\"\",\"description\":\"Friluftsbad\",\"fireplace\":\"true\",\"street\":\"Strandv\\xc3\\xa4gen\",\"postalcode\":\"4\",\"beach_grass\":\"\",\"lifeguard\":\"false\",\"\\xef\\xbb\\xbfplaceid\":\"402\",\"watertype\":\"lake\",\"email\":\"kontaktcenter@falun.se \",\"longitude\":\"15.699120023955059\",\"pet_bath\":\"\",\"bech_rock\":\"\",\"bathing_jetty\":\"true\",\"extra_url\":\"\",\"toilets\":\"Torrdass\",\"temp_url\":\"https://fev.se/stadsnat/vattentemperatur-badplats.html\",\"visit_url\":\"https://www.falun.se/gora--uppleva/idrott-motion-och-friluftsliv/badplatser.html\",\"phone\":\"+462383000\",\"firstaid\":\"\",\"housenumber\":\"110\",\"name\":\"Roxn\\xc3\\xa4sbadet\",\"drinking_water\":\"\",\"facilities\":\"B\\xc3\\xa4nkbord, , \",\"changing_room\":\"true\",\"updated\":\"2022-02-25\",\"wikidata\":\"\",\"hov_ref\":\"\",\"beach_stone\":\"\"},{\"td_url\":\"\",\"lifebuoy\":\"true\",\"beach_sand\":\"\",\"shower\":\"\",\"country\":\"SE\",\"wheelchair\":\"false\",\"camping\":\"\",\"city\":\"Falun\",\"accessibility\":\"\",\"latitude\":\"60.586068068553686\",\"bathing_ladder\":\"\",\"diving_tower\":\"\",\"description\":\"Friluftsbad\",\"fireplace\":\"true\",\"street\":\"Sandlandsstigen\",\"postalcode\":\"4\",\"beach_grass\":\"\",\"lifeguard\":\"false\",\"\\xef\\xbb\\xbfplaceid\":\"411\",\"watertype\":\"lake\",\"email\":\"kontaktcenter@falun.se \",\"longitude\":\"15.750545796976215\",\"pet_bath\":\"\",\"bech_rock\":\"\",\"bathing_jetty\":\"true\",\"extra_url\":\"\",\"toilets\":\"Torrdass\",\"temp_url\":\"https://fev.se/stadsnat/vattentemperatur-badplats.html\",\"visit_url\":\"https://www.falun.se/gora--uppleva/idrott-motion-och-friluftsliv/badplatser.html\",\"phone\":\"+462383000\",\"firstaid\":\"\",\"housenumber\":\"28\",\"name\":\"Sandlandet\",\"drinking_water\":\"\",\"facilities\":\"B\\xc3\\xa4nkbord, , \",\"changing_room\":\"\",\"updated\":\"2022-02-25\",\"wikidata\":\"\",\"hov_ref\":\"\",\"beach_stone\":\"\"},{\"td_url\":\"\",\"lifebuoy\":\"true\",\"beach_sand\":\"\",\"shower\":\"\",\"country\":\"SE\",\"wheelchair\":\"false\",\"camping\":\"\",\"city\":\"Sv\\xc3\\xa4rdsj\\xc3\\xb6\",\"accessibility\":\"\",\"latitude\":\"60.76051106305495\",\"bathing_ladder\":\"\",\"diving_tower\":\"\",\"description\":\"Friluftsbad\",\"fireplace\":\"\",\"street\":\"H\\xc3\\xb6gan\\xc3\\xa4sbadet\",\"postalcode\":\"4\",\"beach_grass\":\"\",\"lifeguard\":\"false\",\"\\xef\\xbb\\xbfplaceid\":\"403\",\"watertype\":\"lake\",\"email\":\"kontaktcenter@falun.se \",\"longitude\":\"15.920263597215472\",\"pet_bath\":\"\",\"bech_rock\":\"\",\"bathing_jetty\":\"true\",\"extra_url\":\"\",\"toilets\":\"Torrdass\",\"temp_url\":\"https://fev.se/stadsnat/vattentemperatur-badplats.html\",\"visit_url\":\"https://www.falun.se/gora--uppleva/idrott-motion-och-friluftsliv/badplatser.html\",\"phone\":\"+462383000\",\"firstaid\":\"\",\"housenumber\":\"3\",\"name\":\"H\\xc3\\xb6gan\\xc3\\xa4sbadet\",\"drinking_water\":\"\",\"facilities\":\", , Parkb\\xc3\\xa4nk fast\",\"changing_room\":\"true\",\"updated\":\"2022-02-25\",\"wikidata\":\"\",\"hov_ref\":\"\",\"beach_stone\":\"\"},{\"td_url\":\"\",\"lifebuoy\":\"true\",\"beach_sand\":\"\",\"shower\":\"\",\"country\":\"SE\",\"wheelchair\":\"false\",\"camping\":\"\",\"city\":\"Grycksbo\",\"accessibility\":\"\",\"latitude\":\"60.68903933279451\",\"bathing_ladder\":\"\",\"diving_tower\":\"\",\"description\":\"Friluftsbad\",\"fireplace\":\"true\",\"street\":\"Tansh\\xc3\\xb6jd\",\"postalcode\":\"4\",\"beach_grass\":\"\",\"lifeguard\":\"false\",\"\\xef\\xbb\\xbfplaceid\":\"404\",\"watertype\":\"lake\",\"email\":\"kontaktcenter@falun.se \",\"longitude\":\"15.466758211318863\",\"pet_bath\":\"\",\"bech_rock\":\"\",\"bathing_jetty\":\"true\",\"extra_url\":\"\",\"toilets\":\"Torrdass\",\"temp_url\":\"https://fev.se/stadsnat/vattentemperatur-badplats.html\",\"visit_url\":\"https://www.falun.se/gora--uppleva/idrott-motion-och-friluftsliv/badplatser.html\",\"phone\":\"+462383000\",\"firstaid\":\"\",\"housenumber\":\"21\",\"name\":\"Tansen bad\",\"drinking_water\":\"\",\"facilities\":\"B\\xc3\\xa4nkbord, , \",\"changing_room\":\"true\",\"updated\":\"2022-02-25\",\"wikidata\":\"\",\"hov_ref\":\"\",\"beach_stone\":\"\"},{\"td_url\":\"\",\"lifebuoy\":\"true\",\"beach_sand\":\"\",\"shower\":\"\",\"country\":\"SE\",\"wheelchair\":\"false\",\"camping\":\"\",\"city\":\"Enviken\",\"accessibility\":\"\",\"latitude\":\"60.808447192279154\",\"bathing_ladder\":\"\",\"diving_tower\":\"\",\"description\":\"Friluftsbad\",\"fireplace\":\"\",\"street\":\"Nyhagen\",\"postalcode\":\"4\",\"beach_grass\":\"\",\"lifeguard\":\"false\",\"\\xef\\xbb\\xbfplaceid\":\"414\",\"watertype\":\"lake\",\"email\":\"kontaktcenter@falun.se \",\"longitude\":\"15.776970996413535\",\"pet_bath\":\"\",\"bech_rock\":\"\",\"bathing_jetty\":\"true\",\"extra_url\":\"\",\"toilets\":\"Torrdass\",\"temp_url\":\"https://fev.se/stadsnat/vattentemperatur-badplats.html\",\"visit_url\":\"https://www.falun.se/gora--uppleva/idrott-motion-och-friluftsliv/badplatser.html\",\"phone\":\"+462383000\",\"firstaid\":\"\",\"housenumber\":\"23\",\"name\":\"Klockarn\\xc3\\xa4s bad\",\"drinking_water\":\"\",\"facilities\":\", , \",\"changing_room\":\"true\",\"updated\":\"2022-02-25\",\"wikidata\":\"\",\"hov_ref\":\"\",\"beach_stone\":\"\"},{\"td_url\":\"\",\"lifebuoy\":\"true\",\"beach_sand\":\"\",\"shower\":\"\",\"country\":\"SE\",\"wheelchair\":\"false\",\"camping\":\"\",\"city\":\"Enviken\",\"accessibility\":\"\",\"latitude\":\"60.89859589906297\",\"bathing_ladder\":\"\",\"diving_tower\":\"\",\"description\":\"Friluftsbad\",\"fireplace\":\"\",\"street\":\"Balungstrand\",\"postalcode\":\"4\",\"beach_grass\":\"\",\"lifeguard\":\"false\",\"\\xef\\xbb\\xbfplaceid\":\"417\",\"watertype\":\"lake\",\"email\":\"kontaktcenter@falun.se \",\"longitude\":\"15.743929669361007\",\"pet_bath\":\"\",\"bech_rock\":\"\",\"bathing_jetty\":\"\",\"extra_url\":\"\",\"toilets\":\"Torrdass\",\"temp_url\":\"https://fev.se/stadsnat/vattentemperatur-badplats.html\",\"visit_url\":\"https://www.falun.se/gora--uppleva/idrott-motion-och-friluftsliv/badplatser.html\",\"phone\":\"+462383000\",\"firstaid\":\"\",\"housenumber\":\"130\",\"name\":\"Balungstrand\",\"drinking_water\":\"\",\"facilities\":\"B\\xc3\\xa4nkbord, , \",\"changing_room\":\"true\",\"updated\":\"2022-02-25\",\"wikidata\":\"\",\"hov_ref\":\"\",\"beach_stone\":\"\"},{\"td_url\":\"\",\"lifebuoy\":\"true\",\"beach_sand\":\"\",\"shower\":\"\",\"country\":\"SE\",\"wheelchair\":\"false\",\"camping\":\"\",\"city\":\"Sundborn\",\"accessibility\":\"\",\"latitude\":\"60.65200612618808\",\"bathing_ladder\":\"\",\"diving_tower\":\"\",\"description\":\"Friluftsbad\",\"fireplace\":\"true\",\"street\":\"Karlsbyheden\",\"postalcode\":\"4\",\"beach_grass\":\"\",\"lifeguard\":\"false\",\"\\xef\\xbb\\xbfplaceid\":\"416\",\"watertype\":\"lake\",\"email\":\"kontaktcenter@falun.se \",\"longitude\":\"15.845428584648744\",\"pet_bath\":\"\",\"bech_rock\":\"\",\"bathing_jetty\":\"true\",\"extra_url\":\"\",\"toilets\":\"Torrdass\",\"temp_url\":\"https://fev.se/stadsnat/vattentemperatur-badplats.html\",\"visit_url\":\"https://www.falun.se/gora--uppleva/idrott-motion-och-friluftsliv/badplatser.html\",\"phone\":\"+462383000\",\"firstaid\":\"\",\"housenumber\":\"66\",\"name\":\"Hedkarlssj\\xc3\\xb6n\",\"drinking_water\":\"\",\"facilities\":\"B\\xc3\\xa4nkbord, , \",\"changing_room\":\"true\",\"updated\":\"2022-02-25\",\"wikidata\":\"\",\"hov_ref\":\"\",\"beach_stone\":\"\"},{\"td_url\":\"\",\"lifebuoy\":\"true\",\"beach_sand\":\"\",\"shower\":\"\",\"country\":\"SE\",\"wheelchair\":\"false\",\"camping\":\"\",\"city\":\"Falun\",\"accessibility\":\"\",\"latitude\":\"60.58067875996687\",\"bathing_ladder\":\"\",\"diving_tower\":\"\",\"description\":\"Friluftsbad\",\"fireplace\":\"true\",\"street\":\"Str\\xc3\\xa5tenbo\",\"postalcode\":\"4\",\"beach_grass\":\"\",\"lifeguard\":\"false\",\"\\xef\\xbb\\xbfplaceid\":\"409\",\"watertype\":\"lake\",\"email\":\"kontaktcenter@falun.se \",\"longitude\":\"15.464269142513325\",\"pet_bath\":\"\",\"bech_rock\":\"\",\"bathing_jetty\":\"true\",\"extra_url\":\"\",\"toilets\":\"Torrdass\",\"temp_url\":\"https://fev.se/stadsnat/vattentemperatur-badplats.html\",\"visit_url\":\"https://www.falun.se/gora--uppleva/idrott-motion-och-friluftsliv/badplatser.html\",\"phone\":\"+462383000\",\"firstaid\":\"\",\"housenumber\":\"86\",\"name\":\"Stora Aspan\",\"drinking_water\":\"\",\"facilities\":\"B\\xc3\\xa4nkbord, , \",\"changing_room\":\"true\",\"updated\":\"2022-02-25\",\"wikidata\":\"\",\"hov_ref\":\"\",\"beach_stone\":\"\"},{\"td_url\":\"\",\"lifebuoy\":\"true\",\"beach_sand\":\"\",\"shower\":\"\",\"country\":\"SE\",\"wheelchair\":\"false\",\"camping\":\"\",\"city\":\"Falun\",\"accessibility\":\"\",\"latitude\":\"60.66142397828899\",\"bathing_ladder\":\"\",\"diving_tower\":\"\",\"description\":\"Friluftsbad\",\"fireplace\":\"\",\"street\":\"\\xc3\\x96ster\\xc3\\xa5\",\"postalcode\":\"4\",\"beach_grass\":\"\",\"lifeguard\":\"false\",\"\\xef\\xbb\\xbfplaceid\":\"407\",\"watertype\":\"lake\",\"email\":\"kontaktcenter@falun.se \",\"longitude\":\"15.62256485149957\",\"pet_bath\":\"\",\"bech_rock\":\"\",\"bathing_jetty\":\"\",\"extra_url\":\"\",\"toilets\":\"Torrdass\",\"temp_url\":\"https://fev.se/stadsnat/vattentemperatur-badplats.html\",\"visit_url\":\"https://www.falun.se/gora--uppleva/idrott-motion-och-friluftsliv/badplatser.html\",\"phone\":\"+462383000\",\"firstaid\":\"\",\"housenumber\":\"99\",\"name\":\"\\xc3\\x96ster\\xc3\\xa5 bad\",\"drinking_water\":\"\",\"facilities\":\"B\\xc3\\xa4nkbord, , \",\"changing_room\":\"\",\"updated\":\"2022-02-25\",\"wikidata\":\"\",\"hov_ref\":\"\",\"beach_stone\":\"\"},{\"td_url\":\"\",\"lifebuoy\":\"true\",\"beach_sand\":\"\",\"shower\":\"\",\"country\":\"SE\",\"wheelchair\":\"false\",\"camping\":\"\",\"city\":\"Falun\",\"accessibility\":\"\",\"latitude\":\"60.483079999894564\",\"bathing_ladder\":\"\",\"diving_tower\":\"\",\"description\":\"Friluftsbad\",\"fireplace\":\"\",\"street\":\"Strand\",\"postalcode\":\"4\",\"beach_grass\":\"\",\"lifeguard\":\"false\",\"\\xef\\xbb\\xbfplaceid\":\"410\",\"watertype\":\"lake\",\"email\":\"kontaktcenter@falun.se \",\"longitude\":\"15.744670808692687\",\"pet_bath\":\"\",\"bech_rock\":\"\",\"bathing_jetty\":\"\",\"extra_url\":\"\",\"toilets\":\"Torrdass\",\"temp_url\":\"https://fev.se/stadsnat/vattentemperatur-badplats.html\",\"visit_url\":\"https://www.falun.se/gora--uppleva/idrott-motion-och-friluftsliv/badplatser.html\",\"phone\":\"+462383000\",\"firstaid\":\"\",\"housenumber\":\"116\",\"name\":\"Vikastrand\",\"drinking_water\":\"\",\"facilities\":\", , \",\"changing_room\":\"\",\"updated\":\"2022-02-25\",\"wikidata\":\"\",\"hov_ref\":\"\",\"beach_stone\":\"\"},{\"td_url\":\"\",\"lifebuoy\":\"true\",\"beach_sand\":\"\",\"shower\":\"\",\"country\":\"SE\",\"wheelchair\":\"false\",\"camping\":\"\",\"city\":\"Bjurs\\xc3\\xa5s\",\"accessibility\":\"\",\"latitude\":\"60.765477021909405\",\"bathing_ladder\":\"\",\"diving_tower\":\"\",\"description\":\"Friluftsbad\",\"fireplace\":\"true\",\"street\":\"Bj\\xc3\\xb6rsbergsv\\xc3\\xa4gen\",\"postalcode\":\"4\",\"beach_grass\":\"\",\"lifeguard\":\"false\",\"\\xef\\xbb\\xbfplaceid\":\"415\",\"watertype\":\"lake\",\"email\":\"kontaktcenter@falun.se \",\"longitude\":\"15.464276202229433\",\"pet_bath\":\"\",\"bech_rock\":\"\",\"bathing_jetty\":\"true\",\"extra_url\":\"\",\"toilets\":\"Torrdass\",\"temp_url\":\"https://fev.se/stadsnat/vattentemperatur-badplats.html\",\"visit_url\":\"https://www.falun.se/gora--uppleva/idrott-motion-och-friluftsliv/badplatser.html\",\"phone\":\"+462383000\",\"firstaid\":\"\",\"housenumber\":\"54\",\"name\":\"Bjursen bad\",\"drinking_water\":\"\",\"facilities\":\"B\\xc3\\xa4nkbord, , \",\"changing_room\":\"true\",\"updated\":\"2022-02-25\",\"wikidata\":\"\",\"hov_ref\":\"\",\"beach_stone\":\"\"},{\"td_url\":\"\",\"lifebuoy\":\"true\",\"beach_sand\":\"\",\"shower\":\"\",\"country\":\"SE\",\"wheelchair\":\"false\",\"camping\":\"\",\"city\":\"S\\xc3\\xa5gmyra\",\"accessibility\":\"\",\"latitude\":\"60.71869714521778\",\"bathing_ladder\":\"\",\"diving_tower\":\"\",\"description\":\"Friluftsbad\",\"fireplace\":\"true\",\"street\":\"S\\xc3\\xa5gen | S\\xc3\\xa5gmyra\",\"postalcode\":\"4\",\"beach_grass\":\"\",\"lifeguard\":\"false\",\"\\xef\\xbb\\xbfplaceid\":\"405\",\"watertype\":\"lake\",\"email\":\"kontaktcenter@falun.se \",\"longitude\":\"15.278551443008656\",\"pet_bath\":\"\",\"bech_rock\":\"\",\"bathing_jetty\":\"true\",\"extra_url\":\"\",\"toilets\":\"Torrdass\",\"temp_url\":\"https://fev.se/stadsnat/vattentemperatur-badplats.html\",\"visit_url\":\"https://www.falun.se/gora--uppleva/idrott-motion-och-friluftsliv/badplatser.html\",\"phone\":\"+462383000\",\"firstaid\":\"\",\"housenumber\":\"46\",\"name\":\"\\xc3\\x85rbobadet\",\"drinking_water\":\"\",\"facilities\":\", , Parkb\\xc3\\xa4nk fast\",\"changing_room\":\"true\",\"updated\":\"2022-02-25\",\"wikidata\":\"\",\"hov_ref\":\"\",\"beach_stone\":\"\"},{\"td_url\":\"\",\"lifebuoy\":\"true\",\"beach_sand\":\"\",\"shower\":\"\",\"country\":\"SE\",\"wheelchair\":\"false\",\"camping\":\"\",\"city\":\"Sundborn\",\"accessibility\":\"\",\"latitude\":\"60.65484908065608\",\"bathing_ladder\":\"\",\"diving_tower\":\"\",\"description\":\"Friluftsbad\",\"fireplace\":\"true\",\"street\":\"Vitsandsv\\xc3\\xa4gen\",\"postalcode\":\"4\",\"beach_grass\":\"\",\"lifeguard\":\"false\",\"\\xef\\xbb\\xbfplaceid\":\"408\",\"watertype\":\"lake\",\"email\":\"kontaktcenter@falun.se \",\"longitude\":\"15.800939780497924\",\"pet_bath\":\"\",\"bech_rock\":\"\",\"bathing_jetty\":\"\",\"extra_url\":\"\",\"toilets\":\"Torrdass\",\"temp_url\":\"https://fev.se/stadsnat/vattentemperatur-badplats.html\",\"visit_url\":\"https://www.falun.se/gora--uppleva/idrott-motion-och-friluftsliv/badplatser.html\",\"phone\":\"+462383000\",\"firstaid\":\"\",\"housenumber\":\"21\",\"name\":\"Vitsand\",\"drinking_water\":\"\",\"facilities\":\"B\\xc3\\xa4nkbord, , \",\"changing_room\":\"\",\"updated\":\"2022-02-25\",\"wikidata\":\"\",\"hov_ref\":\"\",\"beach_stone\":\"\"},{\"td_url\":\"\",\"lifebuoy\":\"true\",\"beach_sand\":\"\",\"shower\":\"\",\"country\":\"SE\",\"wheelchair\":\"true\",\"camping\":\"\",\"city\":\"Falun\",\"accessibility\":\"\",\"latitude\":\"60.6309275986566\",\"bathing_ladder\":\"\",\"diving_tower\":\"\",\"description\":\"Friluftsbad/Handikappsanpassat\",\"fireplace\":\"true\",\"street\":\"L\\xc3\\xb6vbergsv\\xc3\\xa4gen\",\"postalcode\":\"3\",\"beach_grass\":\"\",\"lifeguard\":\"false\",\"\\xef\\xbb\\xbfplaceid\":\"412\",\"watertype\":\"lake\",\"email\":\"kontaktcenter@falun.se \",\"longitude\":\"15.555454001888535\",\"pet_bath\":\"\",\"bech_rock\":\"\",\"bathing_jetty\":\"true\",\"extra_url\":\"\",\"toilets\":\"Torrdass\",\"temp_url\":\"https://fev.se/stadsnat/vattentemperatur-badplats.html\",\"visit_url\":\"https://www.falun.se/gora--uppleva/idrott-motion-och-friluftsliv/badplatser.html\",\"phone\":\"+462383000\",\"firstaid\":\"\",\"housenumber\":\"45\",\"name\":\"St\\xc3\\xa5ngtj\\xc3\\xa4rn\",\"drinking_water\":\"\",\"facilities\":\"B\\xc3\\xa4nkbord, Kiosk, Parkb\\xc3\\xa4nk fast\",\"changing_room\":\"true\",\"updated\":\"2022-02-25\",\"wikidata\":\"\",\"hov_ref\":\"\",\"beach_stone\":\"\"},{\"td_url\":\"\",\"lifebuoy\":\"true\",\"beach_sand\":\"\",\"shower\":\"\",\"country\":\"SE\",\"wheelchair\":\"true\",\"camping\":\"\",\"city\":\"Falun\",\"accessibility\":\"\",\"latitude\":\"60.54571425690352\",\"bathing_ladder\":\"\",\"diving_tower\":\"\",\"description\":\"Friluftsbad/Handikappsanpassat\",\"fireplace\":\"\",\"street\":\"Liljan\",\"postalcode\":\"1\",\"beach_grass\":\"\",\"lifeguard\":\"false\",\"\\xef\\xbb\\xbfplaceid\":\"413\",\"watertype\":\"lake\",\"email\":\"kontaktcenter@falun.se \",\"longitude\":\"15.58239510502284\",\"pet_bath\":\"\",\"bech_rock\":\"\",\"bathing_jetty\":\"true\",\"extra_url\":\"\",\"toilets\":\"Torrdass\",\"temp_url\":\"https://fev.se/stadsnat/vattentemperatur-badplats.html\",\"visit_url\":\"https://www.falun.se/gora--uppleva/idrott-motion-och-friluftsliv/badplatser.html\",\"phone\":\"+462383000\",\"firstaid\":\"\",\"housenumber\":\"55\",\"name\":\"Liljans Herrg\\xc3\\xa5rd\",\"drinking_water\":\"\",\"facilities\":\"B\\xc3\\xa4nkbord, , \",\"changing_room\":\"true\",\"updated\":\"2022-02-25\",\"wikidata\":\"\",\"hov_ref\":\"\",\"beach_stone\":\"\"}]}'\n"
          ]
        }
      ]
    }
  ]
}